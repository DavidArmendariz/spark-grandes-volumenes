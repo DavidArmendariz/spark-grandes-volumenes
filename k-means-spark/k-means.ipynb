{
 "cells": [
  {
   "cell_type": "code",
   "execution_count": 44,
   "metadata": {},
   "outputs": [],
   "source": [
    "from pyspark.sql import Row, SparkSession"
   ]
  },
  {
   "cell_type": "code",
   "execution_count": 45,
   "metadata": {},
   "outputs": [],
   "source": [
    "spark = SparkSession.builder.getOrCreate()"
   ]
  },
  {
   "cell_type": "code",
   "execution_count": 46,
   "metadata": {},
   "outputs": [
    {
     "name": "stdout",
     "output_type": "stream",
     "text": [
      "Initial centroids:\n",
      "Centroid 0: Row(x1=99.3715860581051, x2=31.88346837545848)\n",
      "Centroid 1: Row(x1=84.20068926901318, x2=13.86568097708431)\n",
      "Centroid 2: Row(x1=87.44382714322302, x2=-23.348612125353185)\n"
     ]
    }
   ],
   "source": [
    "# Assuming dataRDD is your RDD containing data points\n",
    "dataRDD = spark.read.csv(\"data.csv\", header=True, inferSchema=True).rdd\n",
    "\n",
    "# Step 1: Randomly initialize K centroids\n",
    "k = 3  # specify the number of clusters\n",
    "centroids = dataRDD.takeSample(withReplacement=False, num=k, seed=42)\n",
    "\n",
    "print(\"Initial centroids:\")\n",
    "for index, centroid in enumerate(centroids):\n",
    "    print(f\"Centroid {index}: {centroid}\")"
   ]
  },
  {
   "cell_type": "code",
   "execution_count": 47,
   "metadata": {},
   "outputs": [],
   "source": [
    "# Step 2: Define a function to assign each data point to the nearest centroid\n",
    "def assign_to_centroid(point, centroids):\n",
    "    best_centroid = None\n",
    "    best_distance = float(\"inf\")\n",
    "    for centroid in centroids:\n",
    "        distance = sum((a - b) ** 2 for a, b in zip(point, centroid))\n",
    "        if distance < best_distance:\n",
    "            best_distance = distance\n",
    "            best_centroid = centroid\n",
    "\n",
    "    return best_centroid, point"
   ]
  },
  {
   "cell_type": "code",
   "execution_count": 48,
   "metadata": {},
   "outputs": [],
   "source": [
    "# Step 3: Assign each data point to the nearest centroid\n",
    "assigned_data = dataRDD.map(lambda point: assign_to_centroid(point, centroids))\n",
    "\n",
    "# Step 4: Calculate new centroids by averaging points assigned to each centroid\n",
    "new_centroids = (\n",
    "    assigned_data.groupByKey()\n",
    "    .mapValues(lambda points: [sum(p) / len(points) for p in zip(*points)])\n",
    "    .values()\n",
    "    .collect()\n",
    ")\n",
    "\n",
    "new_centroids = [Row(x1=centroid[0], x2=centroid[1]) for centroid in new_centroids]"
   ]
  },
  {
   "cell_type": "code",
   "execution_count": 49,
   "metadata": {},
   "outputs": [],
   "source": [
    "# Step 5: Iterate until convergence or a specified number of iterations\n",
    "max_iterations = 10\n",
    "for iteration in range(max_iterations):\n",
    "    assigned_data = dataRDD.map(lambda point: assign_to_centroid(point, centroids))\n",
    "    new_centroids = (\n",
    "        assigned_data.groupByKey()\n",
    "        .mapValues(lambda points: [sum(p) / len(points) for p in zip(*points)])\n",
    "        .values()\n",
    "        .collect()\n",
    "    )\n",
    "    new_centroids = [Row(x1=centroid[0], x2=centroid[1]) for centroid in new_centroids]"
   ]
  },
  {
   "cell_type": "code",
   "execution_count": 50,
   "metadata": {},
   "outputs": [
    {
     "name": "stdout",
     "output_type": "stream",
     "text": [
      "Final centroids:\n",
      "Centroid 0: Row(x1=85.58130353160162, x2=-23.416604265260847)\n",
      "Centroid 1: Row(x1=4.785748415740877, x2=13.679017999658925)\n",
      "Centroid 2: Row(x1=103.05401794144838, x2=43.26637266357961)\n"
     ]
    }
   ],
   "source": [
    "final_centroids = new_centroids\n",
    "print(\"Final centroids:\")\n",
    "for index, centroid in enumerate(final_centroids):\n",
    "    print(f\"Centroid {index}: {centroid}\")"
   ]
  }
 ],
 "metadata": {
  "kernelspec": {
   "display_name": "spark-grandes-volumenes-6H4mZu4J",
   "language": "python",
   "name": "python3"
  },
  "language_info": {
   "codemirror_mode": {
    "name": "ipython",
    "version": 3
   },
   "file_extension": ".py",
   "mimetype": "text/x-python",
   "name": "python",
   "nbconvert_exporter": "python",
   "pygments_lexer": "ipython3",
   "version": "3.11.5"
  }
 },
 "nbformat": 4,
 "nbformat_minor": 2
}
